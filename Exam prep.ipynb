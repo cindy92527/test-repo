{
 "cells": [
  {
   "cell_type": "markdown",
   "metadata": {},
   "source": [
    "# Exam preparation material (MA755, Apr 2016)\n",
    "\n",
    "The exam will consist of code (almost entirely) from this file. \n",
    "\n",
    "Each problem will ask you to produce the output produced by the code in a particular cell.\n",
    "\n",
    "I'll want you to determine \n",
    "- what output is produced, indicating the arrangement of items\n",
    "- whether the output is a list, dictionary, set, dataframe, array or scalar \n",
    "\n",
    "No electronics or notes are allowed on the exam."
   ]
  },
  {
   "cell_type": "markdown",
   "metadata": {},
   "source": [
    "## Dictionaries"
   ]
  },
  {
   "cell_type": "code",
   "execution_count": 5,
   "metadata": {
    "collapsed": false
   },
   "outputs": [
    {
     "name": "stdout",
     "output_type": "stream",
     "text": [
      "{'peppers': 4, 'a': 2, 'If': 1, 'picked': 4, 'is': 1, 'peck': 4, 'pickled': 4, 'Piper': 4, 'of': 4, 'Peter': 4, 'A': 1, 'Where': 1, 'the': 1}\n"
     ]
    }
   ],
   "source": [
    "sentence = \"Peter Piper picked a peck of pickled peppers A peck of pickled \\\n",
    "peppers Peter Piper picked If Peter Piper picked a peck of pickled \\\n",
    "peppers Where is the peck of pickled peppers Peter Piper picked\"\n",
    "\n",
    "word_dict = {}\n",
    "\n",
    "for word in sentence.split():\n",
    "    if word not in word_dict:\n",
    "        word_dict[word] =1\n",
    "    else:  \n",
    "        word_dict[word]+=1\n",
    "\n",
    "print (word_dict)"
   ]
  },
  {
   "cell_type": "code",
   "execution_count": 6,
   "metadata": {
    "collapsed": false
   },
   "outputs": [
    {
     "name": "stdout",
     "output_type": "stream",
     "text": [
      "peppers 4\n",
      "a 2\n",
      "If 1\n",
      "picked 4\n",
      "is 1\n",
      "peck 4\n",
      "pickled 4\n",
      "Piper 4\n",
      "of 4\n",
      "Peter 4\n",
      "A 1\n",
      "Where 1\n",
      "the 1\n"
     ]
    }
   ],
   "source": [
    "for key, value in word_dict.items():\n",
    "    print (key,value)"
   ]
  },
  {
   "cell_type": "markdown",
   "metadata": {},
   "source": [
    "## Tuples"
   ]
  },
  {
   "cell_type": "code",
   "execution_count": 7,
   "metadata": {
    "collapsed": false
   },
   "outputs": [
    {
     "name": "stdout",
     "output_type": "stream",
     "text": [
      "1\n",
      "c\n"
     ]
    }
   ],
   "source": [
    "a_tuple = (1,2,'a')\n",
    "b_tuple = 1,2,'c'\n",
    "\n",
    "print (b_tuple[0])\n",
    "print (b_tuple[-1])"
   ]
  },
  {
   "cell_type": "code",
   "execution_count": 8,
   "metadata": {
    "collapsed": false
   },
   "outputs": [
    {
     "name": "stdout",
     "output_type": "stream",
     "text": [
      "Cannot change value of tuple by index\n"
     ]
    }
   ],
   "source": [
    "try:\n",
    "    b_tuple[0] = 20\n",
    "except:\n",
    "    print(\"Cannot change value of tuple by index\")"
   ]
  },
  {
   "cell_type": "code",
   "execution_count": 9,
   "metadata": {
    "collapsed": false
   },
   "outputs": [
    {
     "data": {
      "text/plain": [
       "(1, 2, 'a', 1, 2, 'c')"
      ]
     },
     "execution_count": 9,
     "metadata": {},
     "output_type": "execute_result"
    }
   ],
   "source": [
    "a_tuple + b_tuple"
   ]
  },
  {
   "cell_type": "code",
   "execution_count": 10,
   "metadata": {
    "collapsed": false
   },
   "outputs": [
    {
     "name": "stdout",
     "output_type": "stream",
     "text": [
      "(2, 3, 4, 5, 6, 7, 8, 9, 10)\n",
      "(2, 3)\n",
      "(2, 4, 6)\n",
      "(1, 2, 3, 4, 5, 6, 7, 8, 9)\n",
      "1 10\n",
      "Element 1 is available in tuple a\n"
     ]
    }
   ],
   "source": [
    "a =(1,2,3,4,5,6,7,8,9,10)\n",
    "\n",
    "print (a[1:])\n",
    "print (a[1:3])\n",
    "print (a[1:6:2])\n",
    "print (a[:-1])\n",
    "\n",
    "print (min(a),max(a))\n",
    "\n",
    "if 3 in a:\n",
    "    print (\"Element 1 is available in tuple a\")\n",
    "else:\n",
    "    print (\"Element 1 is available in tuple a\")"
   ]
  },
  {
   "cell_type": "markdown",
   "metadata": {},
   "source": [
    "## Sets"
   ]
  },
  {
   "cell_type": "code",
   "execution_count": 11,
   "metadata": {
    "collapsed": false
   },
   "outputs": [
    {
     "name": "stdout",
     "output_type": "stream",
     "text": [
      "No words in sent_1 = 3\n",
      "Sentence 1 words = {'dogs', 'chase', 'cats'}\n",
      "No words in sent_2 = 3\n",
      "Sentence 2 words = {'dogs', 'cats', 'hate'}\n",
      "No words in common = 2\n",
      "Common words = {'dogs', 'cats'}\n",
      "Total unique words = 4\n",
      "Unique words= {'chase', 'cats', 'dogs', 'hate'}\n",
      "Similarity = No words in common/No unique words, 2/4 = 0.50\n"
     ]
    }
   ],
   "source": [
    "# 1.Initialize two sentences.\n",
    "st_1 = \"dogs chase cats\"\n",
    "st_2 = \"dogs hate cats\"\n",
    "\n",
    "# 2.Create set of words from strings\n",
    "st_1_wrds = set(st_1.split())\n",
    "st_2_wrds = set(st_2.split())\n",
    "\n",
    "# 3.Find out the number of unique words in each set, vocabulary size.\n",
    "no_wrds_st_1 = len(st_1_wrds)\n",
    "no_wrds_st_2 = len(st_2_wrds)\n",
    "\n",
    "# 4.Find out the list of common words between the two sets.\n",
    "# Also find out the count of common words.\n",
    "cmn_wrds = st_1_wrds.intersection(st_2_wrds)\n",
    "no_cmn_wrds = len(st_1_wrds.intersection(st_2_wrds))\n",
    "\n",
    "# 5.Get a list of unique words between the two sets.\n",
    "# Also find out the count of unique words.\n",
    "unq_wrds = st_1_wrds.union(st_2_wrds)\n",
    "no_unq_wrds = len(st_1_wrds.union(st_2_wrds))\n",
    "\n",
    "# 6.Calculate Jaccard similarity \n",
    "similarity = no_cmn_wrds / (1.0 * no_unq_wrds)\n",
    "\n",
    "# 7.Let us now print to grasp our output.\n",
    "print (\"No words in sent_1 = %d\"%(no_wrds_st_1))\n",
    "print (\"Sentence 1 words =\", st_1_wrds)\n",
    "print (\"No words in sent_2 = %d\"%(no_wrds_st_2))\n",
    "print (\"Sentence 2 words =\", st_2_wrds)\n",
    "print (\"No words in common = %d\"%(no_cmn_wrds))\n",
    "print (\"Common words =\", cmn_wrds)\n",
    "print (\"Total unique words = %d\"%(no_unq_wrds))\n",
    "print (\"Unique words=\",unq_wrds)\n",
    "print (\"Similarity = No words in common/No unique words, %d/%d = %.2f\"%(no_cmn_wrds,no_unq_wrds,similarity))"
   ]
  },
  {
   "cell_type": "markdown",
   "metadata": {},
   "source": [
    "## Lists"
   ]
  },
  {
   "cell_type": "code",
   "execution_count": 12,
   "metadata": {
    "collapsed": false
   },
   "outputs": [
    {
     "name": "stdout",
     "output_type": "stream",
     "text": [
      "range(1, 10)\n",
      "['a', 'b', 'c']\n",
      "1\n",
      "9\n",
      "8\n",
      "range(2, 4)\n",
      "range(2, 10)\n",
      "range(9, 10)\n",
      "range(1, 9)\n",
      "[1, 2, 3, 4]\n",
      "1 2\n",
      "Element 1 is available in list a\n",
      "[1, 2, 3, 4, 5, 6, 7, 8, 9]\n",
      "[1, 2, 3, 4, 5, 6, 7, 8, 9, 10]\n",
      "3\n",
      "2\n",
      "1\n",
      "1\n",
      "2\n",
      "3\n",
      "[10, 6, 1, 11, 18, 2, 5, 14, 15, 4, 12, 17, 19, 7, 3, 13, 8, 9, 16]\n",
      "[1, 2, 3, 4, 5, 6, 7, 8, 9, 10, 11, 12, 13, 14, 15, 16, 17, 18, 19]\n",
      "[19, 18, 17, 16, 15, 14, 13, 12, 11, 10, 9, 8, 7, 6, 5, 4, 3, 2, 1]\n"
     ]
    }
   ],
   "source": [
    "# 1.Let us look at a quick example of list creation. \n",
    "a = range(1,10)\n",
    "print (a)\n",
    "b = [\"a\",\"b\",\"c\"]\n",
    "print (b)\n",
    "\n",
    "# 2.List can be accessed through indexing. Indexing starts at 0.\n",
    "print (a[0])\n",
    "\n",
    "# 3.With negative indexing the elements of a list are accessed from the end\n",
    "print(a[-1])\n",
    "print(a[-2])\n",
    "\n",
    "# 4.Slicing is accessing a subset of list by providing two indices.\n",
    "print (a[1:3])  # prints [2, 3]\n",
    "print (a[1:])   # prints [2, 3, 4, 5, 6, 7, 8, 9]\n",
    "print (a[-1:])  # prints [9]\n",
    "print (a[:-1])  # prints [1, 2, 3, 4, 5, 6, 7, 8]\n",
    "\n",
    "#5.List concatenation\n",
    "a = [1,2]\n",
    "b = [3,4]\n",
    "print (a + b) # prints [1, 2, 3, 4]\n",
    "\n",
    "# 6.\tList  min max\n",
    "print (min(a),max(a))\n",
    "\n",
    "# 7.\tin and not in\n",
    "if 1 in a:\n",
    "    print (\"Element 1 is available in list a\")\n",
    "else:\n",
    "    print (\"Element 1 is available in tuple a\")\n",
    "\n",
    "# 8. Appending and extending list\n",
    "a = list(range(1,10))\n",
    "print (a)\n",
    "a.append(10)\n",
    "print (a)\n",
    "\n",
    "# 9.List as a stack\n",
    "a_stack = []\n",
    "\n",
    "a_stack.append(1)\n",
    "a_stack.append(2)\n",
    "a_stack.append(3)\n",
    "\n",
    "print (a_stack.pop())\n",
    "print (a_stack.pop())\n",
    "print (a_stack.pop())\n",
    "\n",
    "# 10.List as queue\n",
    "a_queue = []\n",
    "\n",
    "a_queue.append(1)\n",
    "a_queue.append(2)\n",
    "a_queue.append(3)\n",
    "\n",
    "print (a_queue.pop(0))\n",
    "print (a_queue.pop(0))\n",
    "print (a_queue.pop(0))\n",
    "\n",
    "# 11.\tList sort and reverse\n",
    "from random import shuffle\n",
    "a = list(range(1,20))\n",
    "shuffle(a)\n",
    "print (a)\n",
    "a.sort()\n",
    "print (a)\n",
    "\n",
    "a.reverse()\n",
    "print (a)"
   ]
  },
  {
   "cell_type": "markdown",
   "metadata": {},
   "source": [
    "## List comprehension"
   ]
  },
  {
   "cell_type": "code",
   "execution_count": 13,
   "metadata": {
    "collapsed": false
   },
   "outputs": [
    {
     "name": "stdout",
     "output_type": "stream",
     "text": [
      "[-27, -8, -1]\n"
     ]
    }
   ],
   "source": [
    "a = [-3, -2, -1, 0, 1, 2, 3]\n",
    "\n",
    "b = [pow(x,3) for x in a if x < 0]\n",
    "\n",
    "print (b)"
   ]
  },
  {
   "cell_type": "markdown",
   "metadata": {},
   "source": [
    "## Dictionary comprehension"
   ]
  },
  {
   "cell_type": "code",
   "execution_count": 14,
   "metadata": {
    "collapsed": false
   },
   "outputs": [
    {
     "name": "stdout",
     "output_type": "stream",
     "text": [
      "{'c': 9, 'a': 1, 'b': 4}\n"
     ]
    }
   ],
   "source": [
    "a = {'a':1, 'b':2, 'c':3}\n",
    "\n",
    "b = {x:pow(y,2) for x,y in a.items()}\n",
    "\n",
    "print (b)"
   ]
  },
  {
   "cell_type": "markdown",
   "metadata": {},
   "source": [
    "## Functions"
   ]
  },
  {
   "cell_type": "code",
   "execution_count": 15,
   "metadata": {
    "collapsed": false
   },
   "outputs": [
    {
     "name": "stdout",
     "output_type": "stream",
     "text": [
      "25\n"
     ]
    }
   ],
   "source": [
    "def square_input(x):\n",
    "    return x*x\n",
    "\n",
    "square_me = square_input\n",
    "\n",
    "print (square_me(5) ) "
   ]
  },
  {
   "cell_type": "code",
   "execution_count": 16,
   "metadata": {
    "collapsed": false
   },
   "outputs": [
    {
     "name": "stdout",
     "output_type": "stream",
     "text": [
      "45\n"
     ]
    }
   ],
   "source": [
    "def sum_square(x):\n",
    "    def square_input(x):\n",
    "        return x*x\n",
    "    return sum([square_input(x1) for x1 in x])\n",
    "\n",
    "print (sum_square([2,4,5]) )"
   ]
  },
  {
   "cell_type": "code",
   "execution_count": 17,
   "metadata": {
    "collapsed": false
   },
   "outputs": [
    {
     "name": "stdout",
     "output_type": "stream",
     "text": [
      "[25, 16, 9, 4, 1]\n"
     ]
    }
   ],
   "source": [
    "from math import log\n",
    "\n",
    "def square_input(x):\n",
    "    return x*x\n",
    "\n",
    "def apply_func(func_x,input_x):\n",
    "    return list(map(func_x,input_x))\n",
    "    \n",
    "a = [5,4,3,2,1]\n",
    "\n",
    "print (apply_func(square_input,a))"
   ]
  },
  {
   "cell_type": "code",
   "execution_count": 18,
   "metadata": {
    "collapsed": false
   },
   "outputs": [
    {
     "name": "stdout",
     "output_type": "stream",
     "text": [
      "Volume of cylinder of radius 10 and height 10 = 3141.00  cubic units\n",
      "Volume of cylinder of radius 10 and height 20 = 6282.00  cubic units\n"
     ]
    }
   ],
   "source": [
    "def cylinder_vol(r):\n",
    "    pi = 3.141\n",
    "    def get_vol(h):\n",
    "        return pi * r**2 * h\n",
    "    return get_vol\n",
    "\n",
    "radius = 10\n",
    "find_volume = cylinder_vol(radius)\n",
    "\n",
    "height = 10\n",
    "print (\"Volume of cylinder of radius %d and height %d = %.2f  cubic units\" \\\n",
    "                %(radius,height,find_volume(height)))        \n",
    "\n",
    "height = 20\n",
    "print (\"Volume of cylinder of radius %d and height %d = %.2f  cubic units\" \\\n",
    "                %(radius,height,find_volume(height)))   "
   ]
  },
  {
   "cell_type": "code",
   "execution_count": 19,
   "metadata": {
    "collapsed": false
   },
   "outputs": [
    {
     "name": "stdout",
     "output_type": "stream",
     "text": [
      "55\n"
     ]
    }
   ],
   "source": [
    "a =[5,4,3,2,1]\n",
    "\n",
    "def do_list(a_list,func):\n",
    "    total = 0\n",
    "    for element in a_list:\n",
    "        total+=func(element)\n",
    "    return total\n",
    "\n",
    "print (do_list(a, lambda x: x**2))   "
   ]
  },
  {
   "cell_type": "markdown",
   "metadata": {},
   "source": [
    "## Functions applied to lists"
   ]
  },
  {
   "cell_type": "code",
   "execution_count": 20,
   "metadata": {
    "collapsed": false
   },
   "outputs": [
    {
     "name": "stdout",
     "output_type": "stream",
     "text": [
      "[100, 400, 900]\n"
     ]
    }
   ],
   "source": [
    "a = [10,20,30]\n",
    "\n",
    "print (list(map(lambda x:x**2, a)))"
   ]
  },
  {
   "cell_type": "code",
   "execution_count": null,
   "metadata": {
    "collapsed": false
   },
   "outputs": [
    {
     "name": "stdout",
     "output_type": "stream",
     "text": [
      "[(0, 6), (1, 7), (2, 8), (3, 9), (4, 10), (5, 11)]\n"
     ]
    }
   ],
   "source": [
    "print (list(\n",
    "        zip([0,1,2,3,4,5], \n",
    "            [6,7,8,9,10,11,12])))"
   ]
  },
  {
   "cell_type": "markdown",
   "metadata": {},
   "source": [
    "## Pandas dataframes"
   ]
  },
  {
   "cell_type": "code",
   "execution_count": null,
   "metadata": {
    "collapsed": true
   },
   "outputs": [],
   "source": [
    "import pandas as pd\n",
    "import numpy as np\n",
    "import matplotlib.pyplot as plt"
   ]
  },
  {
   "cell_type": "code",
   "execution_count": null,
   "metadata": {
    "collapsed": false
   },
   "outputs": [],
   "source": [
    "col_data = {'var1' : [1.0, 2.0, 3.0, 4.0],\n",
    "            'var2' : [10 , 20 , 30 , 40 ]}\n",
    "\n",
    "col_df = pd.DataFrame(col_data)\n",
    "col_df"
   ]
  },
  {
   "cell_type": "code",
   "execution_count": null,
   "metadata": {
    "collapsed": false
   },
   "outputs": [],
   "source": [
    "row_data= [(30,'Hello'), (222,\"World\")]\n",
    "row_df = pd.DataFrame(row_data,columns=['var2','var3'])\n",
    "row_df"
   ]
  },
  {
   "cell_type": "code",
   "execution_count": null,
   "metadata": {
    "collapsed": false
   },
   "outputs": [],
   "source": [
    "concat0_df = pd.concat([col_df, row_df], axis=0)\n",
    "concat0_df"
   ]
  },
  {
   "cell_type": "code",
   "execution_count": null,
   "metadata": {
    "collapsed": false
   },
   "outputs": [],
   "source": [
    "concat1_df = pd.concat([col_df, row_df], axis=1)\n",
    "concat1_df"
   ]
  },
  {
   "cell_type": "code",
   "execution_count": null,
   "metadata": {
    "collapsed": false
   },
   "outputs": [],
   "source": [
    "concat0_df[0:3]"
   ]
  },
  {
   "cell_type": "code",
   "execution_count": null,
   "metadata": {
    "collapsed": false
   },
   "outputs": [],
   "source": [
    "concat0_df['var3']"
   ]
  },
  {
   "cell_type": "code",
   "execution_count": null,
   "metadata": {
    "collapsed": false
   },
   "outputs": [],
   "source": [
    "concat0_df[['var2','var3']]"
   ]
  },
  {
   "cell_type": "code",
   "execution_count": null,
   "metadata": {
    "collapsed": false
   },
   "outputs": [],
   "source": [
    "axis0_df[axis0_df.var2>100]"
   ]
  },
  {
   "cell_type": "code",
   "execution_count": null,
   "metadata": {
    "collapsed": false
   },
   "outputs": [],
   "source": [
    "concat0_df[axis0_df.var2>100][['var2']]"
   ]
  },
  {
   "cell_type": "code",
   "execution_count": null,
   "metadata": {
    "collapsed": false
   },
   "outputs": [],
   "source": [
    "merge1_df = col_df.merge(row_df, on='var2')\n",
    "merge1_df"
   ]
  },
  {
   "cell_type": "markdown",
   "metadata": {},
   "source": [
    "## Numpy"
   ]
  },
  {
   "cell_type": "code",
   "execution_count": 31,
   "metadata": {
    "collapsed": false
   },
   "outputs": [
    {
     "data": {
      "text/plain": [
       "array([2, 3, 4])"
      ]
     },
     "execution_count": 31,
     "metadata": {},
     "output_type": "execute_result"
    }
   ],
   "source": [
    "a = np.array([2,3,4])\n",
    "a"
   ]
  },
  {
   "cell_type": "code",
   "execution_count": 32,
   "metadata": {
    "collapsed": false
   },
   "outputs": [
    {
     "data": {
      "text/plain": [
       "3"
      ]
     },
     "execution_count": 32,
     "metadata": {},
     "output_type": "execute_result"
    }
   ],
   "source": [
    "a[1]"
   ]
  },
  {
   "cell_type": "code",
   "execution_count": 33,
   "metadata": {
    "collapsed": false
   },
   "outputs": [
    {
     "data": {
      "text/plain": [
       "array([ 6, 12, 20])"
      ]
     },
     "execution_count": 33,
     "metadata": {},
     "output_type": "execute_result"
    }
   ],
   "source": [
    "a + a**2"
   ]
  },
  {
   "cell_type": "code",
   "execution_count": 34,
   "metadata": {
    "collapsed": false
   },
   "outputs": [
    {
     "ename": "AttributeError",
     "evalue": "'numpy.ndarray' object has no attribute 'append'",
     "output_type": "error",
     "traceback": [
      "\u001b[1;31m---------------------------------------------------------------------------\u001b[0m",
      "\u001b[1;31mAttributeError\u001b[0m                            Traceback (most recent call last)",
      "\u001b[1;32m<ipython-input-34-6dd405976214>\u001b[0m in \u001b[0;36m<module>\u001b[1;34m()\u001b[0m\n\u001b[0;32m      1\u001b[0m \u001b[0mc\u001b[0m \u001b[1;33m=\u001b[0m \u001b[0mnp\u001b[0m\u001b[1;33m.\u001b[0m\u001b[0marray\u001b[0m\u001b[1;33m(\u001b[0m \u001b[1;33m[\u001b[0m \u001b[1;33m[\u001b[0m\u001b[1;36m1\u001b[0m\u001b[1;33m,\u001b[0m\u001b[1;36m2\u001b[0m\u001b[1;33m,\u001b[0m\u001b[1;36m3\u001b[0m\u001b[1;33m]\u001b[0m\u001b[1;33m,\u001b[0m \u001b[1;33m[\u001b[0m\u001b[1;36m4\u001b[0m\u001b[1;33m,\u001b[0m\u001b[1;36m5\u001b[0m\u001b[1;33m,\u001b[0m\u001b[1;36m6\u001b[0m\u001b[1;33m]\u001b[0m\u001b[1;33m,\u001b[0m \u001b[1;33m[\u001b[0m\u001b[1;36m7\u001b[0m\u001b[1;33m,\u001b[0m\u001b[1;36m8\u001b[0m\u001b[1;33m,\u001b[0m\u001b[1;36m9\u001b[0m\u001b[1;33m]\u001b[0m\u001b[1;33m,\u001b[0m \u001b[1;33m[\u001b[0m\u001b[1;36m10\u001b[0m\u001b[1;33m,\u001b[0m \u001b[1;36m11\u001b[0m\u001b[1;33m,\u001b[0m \u001b[1;36m12\u001b[0m\u001b[1;33m]\u001b[0m\u001b[1;33m]\u001b[0m \u001b[1;33m)\u001b[0m\u001b[1;33m\u001b[0m\u001b[0m\n\u001b[0;32m      2\u001b[0m \u001b[0mc\u001b[0m\u001b[1;33m\u001b[0m\u001b[0m\n\u001b[1;32m----> 3\u001b[1;33m \u001b[0mc\u001b[0m\u001b[1;33m.\u001b[0m\u001b[0mappend\u001b[0m\u001b[1;33m(\u001b[0m\u001b[1;33m[\u001b[0m\u001b[1;36m13\u001b[0m\u001b[1;33m,\u001b[0m\u001b[1;36m14\u001b[0m\u001b[1;33m,\u001b[0m\u001b[1;36m15\u001b[0m\u001b[1;33m]\u001b[0m\u001b[1;33m)\u001b[0m\u001b[1;33m\u001b[0m\u001b[0m\n\u001b[0m",
      "\u001b[1;31mAttributeError\u001b[0m: 'numpy.ndarray' object has no attribute 'append'"
     ]
    }
   ],
   "source": [
    "c = np.array( [ [1,2,3], [4,5,6], [7,8,9], [10, 11, 12]] )\n",
    "c\n",
    "c.append([13,14,15])"
   ]
  },
  {
   "cell_type": "code",
   "execution_count": null,
   "metadata": {
    "collapsed": false
   },
   "outputs": [],
   "source": [
    "c.shape"
   ]
  },
  {
   "cell_type": "code",
   "execution_count": null,
   "metadata": {
    "collapsed": false
   },
   "outputs": [],
   "source": [
    "c[1,2]"
   ]
  },
  {
   "cell_type": "code",
   "execution_count": null,
   "metadata": {
    "collapsed": false
   },
   "outputs": [],
   "source": [
    "c[1][2]"
   ]
  },
  {
   "cell_type": "code",
   "execution_count": null,
   "metadata": {
    "collapsed": false
   },
   "outputs": [],
   "source": [
    "c.dot(a)"
   ]
  },
  {
   "cell_type": "code",
   "execution_count": null,
   "metadata": {
    "collapsed": false
   },
   "outputs": [],
   "source": [
    "c.T"
   ]
  },
  {
   "cell_type": "code",
   "execution_count": null,
   "metadata": {
    "collapsed": false
   },
   "outputs": [],
   "source": [
    "(a.T).dot(c.T)"
   ]
  },
  {
   "cell_type": "code",
   "execution_count": null,
   "metadata": {
    "collapsed": true
   },
   "outputs": [],
   "source": []
  },
  {
   "cell_type": "code",
   "execution_count": null,
   "metadata": {
    "collapsed": true
   },
   "outputs": [],
   "source": []
  }
 ],
 "metadata": {
  "kernelspec": {
   "display_name": "Python 3",
   "language": "python",
   "name": "python3"
  },
  "language_info": {
   "codemirror_mode": {
    "name": "ipython",
    "version": 3
   },
   "file_extension": ".py",
   "mimetype": "text/x-python",
   "name": "python",
   "nbconvert_exporter": "python",
   "pygments_lexer": "ipython3",
   "version": "3.5.1"
  }
 },
 "nbformat": 4,
 "nbformat_minor": 0
}
